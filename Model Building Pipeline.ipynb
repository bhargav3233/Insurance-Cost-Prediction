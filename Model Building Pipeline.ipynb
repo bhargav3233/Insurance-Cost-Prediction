{
 "cells": [
  {
   "cell_type": "code",
   "execution_count": 3,
   "id": "97bd98c2",
   "metadata": {},
   "outputs": [],
   "source": [
    "import pandas as pd\n",
    "import numpy as np\n",
    "from sklearn.preprocessing import LabelEncoder, StandardScaler\n",
    "from sklearn.model_selection import train_test_split, GridSearchCV,\n",
    "from sklearn.pipeline import Pipeline\n",
    "from sklearn.linear_model import LinearRegression, Ridge\n",
    "from sklearn.ensemble import RandomForestRegressor\n",
    "from sklearn.compose import TransformedTargetRegressor\n",
    "from sklearn.model_selection import cross_validate\n",
    "from sklearn.metrics import r2_score, mean_absolute_error,mean_squared_error"
   ]
  },
  {
   "cell_type": "code",
   "execution_count": 4,
   "id": "803aac06",
   "metadata": {},
   "outputs": [
    {
     "data": {
      "text/html": [
       "<div>\n",
       "<style scoped>\n",
       "    .dataframe tbody tr th:only-of-type {\n",
       "        vertical-align: middle;\n",
       "    }\n",
       "\n",
       "    .dataframe tbody tr th {\n",
       "        vertical-align: top;\n",
       "    }\n",
       "\n",
       "    .dataframe thead th {\n",
       "        text-align: right;\n",
       "    }\n",
       "</style>\n",
       "<table border=\"1\" class=\"dataframe\">\n",
       "  <thead>\n",
       "    <tr style=\"text-align: right;\">\n",
       "      <th></th>\n",
       "      <th>age</th>\n",
       "      <th>sex</th>\n",
       "      <th>bmi</th>\n",
       "      <th>children</th>\n",
       "      <th>smoker</th>\n",
       "      <th>charges</th>\n",
       "      <th>region_northeast</th>\n",
       "      <th>region_northwest</th>\n",
       "      <th>region_southeast</th>\n",
       "      <th>region_southwest</th>\n",
       "    </tr>\n",
       "  </thead>\n",
       "  <tbody>\n",
       "    <tr>\n",
       "      <th>1009</th>\n",
       "      <td>51</td>\n",
       "      <td>1</td>\n",
       "      <td>27.740</td>\n",
       "      <td>1</td>\n",
       "      <td>0</td>\n",
       "      <td>9957.72160</td>\n",
       "      <td>1.0</td>\n",
       "      <td>0.0</td>\n",
       "      <td>0.0</td>\n",
       "      <td>0.0</td>\n",
       "    </tr>\n",
       "    <tr>\n",
       "      <th>105</th>\n",
       "      <td>20</td>\n",
       "      <td>1</td>\n",
       "      <td>28.025</td>\n",
       "      <td>1</td>\n",
       "      <td>1</td>\n",
       "      <td>17560.37975</td>\n",
       "      <td>0.0</td>\n",
       "      <td>1.0</td>\n",
       "      <td>0.0</td>\n",
       "      <td>0.0</td>\n",
       "    </tr>\n",
       "  </tbody>\n",
       "</table>\n",
       "</div>"
      ],
      "text/plain": [
       "      age  sex     bmi  children  smoker      charges  region_northeast  \\\n",
       "1009   51    1  27.740         1       0   9957.72160               1.0   \n",
       "105    20    1  28.025         1       1  17560.37975               0.0   \n",
       "\n",
       "      region_northwest  region_southeast  region_southwest  \n",
       "1009               0.0               0.0               0.0  \n",
       "105                1.0               0.0               0.0  "
      ]
     },
     "execution_count": 4,
     "metadata": {},
     "output_type": "execute_result"
    }
   ],
   "source": [
    "df = pd.read_csv('cleaned_insurance_data.csv')\n",
    "df.drop(columns='Unnamed: 0',inplace=True)\n",
    "df.sample(2)"
   ]
  },
  {
   "cell_type": "code",
   "execution_count": 12,
   "id": "d4298911",
   "metadata": {},
   "outputs": [
    {
     "data": {
      "text/plain": [
       "Index(['age', 'sex', 'bmi', 'children', 'smoker', 'charges',\n",
       "       'region_northeast', 'region_northwest', 'region_southeast',\n",
       "       'region_southwest'],\n",
       "      dtype='object')"
      ]
     },
     "execution_count": 12,
     "metadata": {},
     "output_type": "execute_result"
    }
   ],
   "source": [
    "df.columns"
   ]
  },
  {
   "cell_type": "code",
   "execution_count": 5,
   "id": "6a2d28b6",
   "metadata": {},
   "outputs": [
    {
     "data": {
      "text/plain": [
       "1121.8739"
      ]
     },
     "execution_count": 5,
     "metadata": {},
     "output_type": "execute_result"
    }
   ],
   "source": [
    "df['charges'].min()"
   ]
  },
  {
   "cell_type": "code",
   "execution_count": 6,
   "id": "b07faa2d",
   "metadata": {},
   "outputs": [
    {
     "data": {
      "text/plain": [
       "63770.42801"
      ]
     },
     "execution_count": 6,
     "metadata": {},
     "output_type": "execute_result"
    }
   ],
   "source": [
    "df['charges'].max()"
   ]
  },
  {
   "cell_type": "markdown",
   "id": "faf942e0",
   "metadata": {},
   "source": [
    "# Preprocessing"
   ]
  },
  {
   "cell_type": "markdown",
   "id": "03c99b6c",
   "metadata": {},
   "source": [
    "- Scaling techniques are typically applied to numerical data in order to make the data comparable and reduce the impact of differences in scales or units. Categorical data does not have a scales"
   ]
  },
  {
   "cell_type": "code",
   "execution_count": null,
   "id": "4959d6cf",
   "metadata": {},
   "outputs": [],
   "source": [
    "#def scaling_cols(df, cols):\n",
    "    scaler = StandardScaler()\n",
    "    df[cols] = scaler.fit_transform(df[cols])"
   ]
  },
  {
   "cell_type": "code",
   "execution_count": null,
   "id": "711ba239",
   "metadata": {},
   "outputs": [],
   "source": [
    "scaling_cols(df, ['age','bmi','charges'])"
   ]
  },
  {
   "cell_type": "code",
   "execution_count": null,
   "id": "2255145a",
   "metadata": {},
   "outputs": [],
   "source": [
    "df"
   ]
  },
  {
   "cell_type": "markdown",
   "id": "8fc3a65c",
   "metadata": {},
   "source": [
    "### Model Building\n",
    "\n",
    "- while fitting the model, some times it takes few minutes/hours, this will speed up.\n",
    "\n",
    "- if you want to use default sklearn\n",
    "    - from sklearnex import unpatch_sklearn\n",
    "      unpatch_sklearn()"
   ]
  },
  {
   "cell_type": "code",
   "execution_count": 7,
   "id": "107bc080",
   "metadata": {},
   "outputs": [
    {
     "name": "stderr",
     "output_type": "stream",
     "text": [
      "Intel(R) Extension for Scikit-learn* enabled (https://github.com/intel/scikit-learn-intelex)\n"
     ]
    }
   ],
   "source": [
    "from sklearnex import patch_sklearn\n",
    "patch_sklearn()"
   ]
  },
  {
   "cell_type": "code",
   "execution_count": 8,
   "id": "c184cf3c",
   "metadata": {},
   "outputs": [],
   "source": [
    "X = np.array(df[[col for col in df.columns if col!='charges']])\n",
    "y = np.array(df['charges'])\n",
    "X_train, X_val, y_train, y_val = train_test_split(X,y, test_size=0.2, random_state=42)"
   ]
  },
  {
   "cell_type": "markdown",
   "id": "381b18c0",
   "metadata": {},
   "source": [
    "- I want to use `LinearRegression` which is good at capturing `linear relationship`, `Ridge` which deals with `multicolinearity` & `overfitting` and tree based models to capture `non-linear relationship`.\n",
    "-  performing model building and tuning in a pipeline is a common approach to streamline the machine learning workflow. "
   ]
  },
  {
   "cell_type": "code",
   "execution_count": 10,
   "id": "370f057b",
   "metadata": {},
   "outputs": [
    {
     "name": "stdout",
     "output_type": "stream",
     "text": [
      "Model: LinearRegression\n",
      "MSE: 33596915.85136147\n",
      "MAE: 4181.194473753642\n",
      "R2 Score: 0.7835929767120723\n",
      "\n",
      "\n",
      "Model: Ridge\n",
      "MSE: 33642947.835070975\n",
      "MAE: 4193.348192170582\n",
      "R2 Score: 0.7832964719788793\n",
      "\n",
      "\n",
      "Model: RandomForestRegressor\n",
      "MSE: 21210326.240391213\n",
      "MAE: 2494.7238521332715\n",
      "R2 Score: 0.8633784248245846\n",
      "\n",
      "\n"
     ]
    }
   ],
   "source": [
    "# Define the pipeline with the preprocessing and modeling steps\n",
    "pipeline = Pipeline([\n",
    "     # define preprocessor steps\n",
    "    ('model', TransformedTargetRegressor(regressor=RandomForestRegressor())) # define initial model and target transformer\n",
    "])\n",
    "\n",
    "# Define the models to use\n",
    "models = [\n",
    "    LinearRegression(),\n",
    "    Ridge(),\n",
    "    RandomForestRegressor()\n",
    "]\n",
    "\n",
    "# Define the scoring metrics\n",
    "scoring = {\n",
    "    'mse': mean_squared_error,\n",
    "    'mae': mean_absolute_error,\n",
    "    'r2': r2_score\n",
    "}\n",
    "\n",
    "# Train and evaluate each model in the pipeline\n",
    "for model in models:\n",
    "    # Set the model in the pipeline\n",
    "    pipeline.named_steps['model'].regressor = model\n",
    "    \n",
    "    # Train the model on the training data\n",
    "    pipeline.fit(X_train, y_train)\n",
    "    \n",
    "    # Make predictions on the test data\n",
    "    y_pred = pipeline.predict(X_val)\n",
    "    \n",
    "    # Calculate the evaluation metrics\n",
    "    mse = scoring['mse'](y_val, y_pred)\n",
    "    mae = scoring['mae'](y_val, y_pred)\n",
    "    r2 = scoring['r2'](y_val, y_pred)\n",
    "    \n",
    "    # Print the evaluation metrics for the model\n",
    "    print(f\"Model: {type(model).__name__}\")\n",
    "    print(f\"MSE: {mse}\")\n",
    "    print(f\"MAE: {mae}\")\n",
    "    print(f\"R2 Score: {r2}\")\n",
    "    print('\\n')"
   ]
  },
  {
   "cell_type": "markdown",
   "id": "819cb1ab",
   "metadata": {},
   "source": [
    "- we can see that RF performed well, mae says on an average the predictions off by 2494 which is "
   ]
  },
  {
   "cell_type": "markdown",
   "id": "2c2bd674",
   "metadata": {},
   "source": [
    "# Tuning"
   ]
  },
  {
   "cell_type": "code",
   "execution_count": 13,
   "id": "d8dfd1bc",
   "metadata": {},
   "outputs": [
    {
     "name": "stdout",
     "output_type": "stream",
     "text": [
      "{'model__regressor__max_depth': 5, 'model__regressor__min_samples_leaf': 4, 'model__regressor__min_samples_split': 10, 'model__regressor__n_estimators': 200}\n",
      "Pipeline(steps=[('model',\n",
      "                 TransformedTargetRegressor(regressor=RandomForestRegressor(max_depth=5,\n",
      "                                                                            min_samples_leaf=4,\n",
      "                                                                            min_samples_split=10,\n",
      "                                                                            n_estimators=200)))])\n"
     ]
    }
   ],
   "source": [
    "param_grid = {\n",
    "    'model__regressor__n_estimators': [100, 200, 300],\n",
    "    'model__regressor__max_depth': [None, 5, 10, 15],\n",
    "    'model__regressor__min_samples_split': [2, 5, 10],\n",
    "    'model__regressor__min_samples_leaf': [1, 2, 4],\n",
    "}\n",
    "\n",
    "grid_search = GridSearchCV(pipeline, param_grid, cv=5, scoring='neg_mean_squared_error', n_jobs=-1)\n",
    "grid_search.fit(X_train, y_train)\n",
    "\n",
    "print(grid_search.best_params_)\n",
    "print(grid_search.best_estimator_)"
   ]
  },
  {
   "cell_type": "code",
   "execution_count": 14,
   "id": "b6f4e323",
   "metadata": {},
   "outputs": [
    {
     "name": "stdout",
     "output_type": "stream",
     "text": [
      "MSE: 18938846.859077193\n",
      "MAE: 2492.00455159118\n",
      "R2 Score: 0.8780096514986292\n"
     ]
    }
   ],
   "source": [
    "best_model = grid_search.best_estimator_\n",
    "y_pred = best_model.predict(X_val)\n",
    "mse = mean_squared_error(y_val, y_pred)\n",
    "mae = mean_absolute_error(y_val, y_pred)\n",
    "r2 = r2_score(y_val, y_pred)\n",
    "print(f\"MSE: {mse}\")\n",
    "print(f\"MAE: {mae}\")\n",
    "print(f\"R2 Score: {r2}\")"
   ]
  }
 ],
 "metadata": {
  "kernelspec": {
   "display_name": "Python 3 (ipykernel)",
   "language": "python",
   "name": "python3"
  },
  "language_info": {
   "codemirror_mode": {
    "name": "ipython",
    "version": 3
   },
   "file_extension": ".py",
   "mimetype": "text/x-python",
   "name": "python",
   "nbconvert_exporter": "python",
   "pygments_lexer": "ipython3",
   "version": "3.9.13"
  }
 },
 "nbformat": 4,
 "nbformat_minor": 5
}
